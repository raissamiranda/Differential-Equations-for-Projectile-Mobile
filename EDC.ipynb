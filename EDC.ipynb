{
  "nbformat": 4,
  "nbformat_minor": 0,
  "metadata": {
    "colab": {
      "provenance": [],
      "include_colab_link": true
    },
    "kernelspec": {
      "name": "python3",
      "display_name": "Python 3"
    },
    "language_info": {
      "name": "python"
    }
  },
  "cells": [
    {
      "cell_type": "markdown",
      "metadata": {
        "id": "view-in-github",
        "colab_type": "text"
      },
      "source": [
        "<a href=\"https://colab.research.google.com/github/raissamiranda/Differential-Equations-for-Projectile-Mobile/blob/main/EDC.ipynb\" target=\"_parent\"><img src=\"https://colab.research.google.com/assets/colab-badge.svg\" alt=\"Open In Colab\"/></a>"
      ]
    },
    {
      "cell_type": "code",
      "execution_count": 1,
      "metadata": {
        "id": "1g1ALsuGwGoI"
      },
      "outputs": [],
      "source": [
        "import numpy as np\n",
        "import scipy as sp\n",
        "from scipy.integrate import solve_ivp\n",
        "from scipy.optimize import minimize\n",
        "import matplotlib.pyplot as plt\n",
        "from math import e"
      ]
    },
    {
      "cell_type": "markdown",
      "source": [
        "# Função para obter a posição"
      ],
      "metadata": {
        "id": "Z87FmLSR4FA8"
      }
    },
    {
      "cell_type": "markdown",
      "source": [
        "Se tiverssemos escrito desde o começo a equação em função da posição, teriamos uma equação diferencial de segunda ordem. Para resolver esse problema com python utilizamos essa abordagem.\n",
        "Sabemos que:\n",
        "$\\frac{d}{dt}V(t) + \\frac{k}{m} V(t) = (0,-g)$\n",
        "e que $V(t) = \\frac{d}{dt} S(t)$\n",
        "Logo, podemos escrever como:\n",
        "$\\frac{d^2}{dt^2} S(t) + \\frac{k}{m} \\frac{d}{dt} S(t) = (0,-g)$\n",
        "Como a biblioteca scipy só resolve equações diferenciais de primeira ordem, escreveremos a equação acima como o seguinte sistema:\n",
        "*   $\\frac{d}{dt} S_x(t) = V_x(t) $\n",
        "*   $\\frac{d}{dt} V_x(t) = - \\frac{k}{m}V_x(t)$\n",
        "*   $\\frac{d}{dt} S_y(t) = V_y(t) $\n",
        "*   $\\frac{d}{dt} V_y(t) = - g - \\frac{k}{m}V_y(t)$"
      ],
      "metadata": {
        "id": "c2gCb4Or6EST"
      }
    },
    {
      "cell_type": "markdown",
      "source": [
        "A função recebe como parâmetros:\n",
        "*   t = intervalo de integração\n",
        "*   S = uma lista com [$\\frac{d}{dt}S_x(t)$, $\\frac{d}{dt}V_x(t)$, $\\frac{d}{dt}S_y(t)$, $\\frac{d}{dt}V_y(t)$]\n",
        "*   k = intensidade da resistência do ar\n",
        "*   g = gravidade\n",
        "*   m = massa\n",
        "\n",
        "Ela retorna uma lista com [$V_x(t)$, $\\frac{d}{dt}V_x(t)$, $V_y(t)$, $\\frac{d}{dt}V_y(t)$]"
      ],
      "metadata": {
        "id": "i3TefjGl4Nfz"
      }
    },
    {
      "cell_type": "markdown",
      "source": [],
      "metadata": {
        "id": "wSsnLu1qEtI-"
      }
    },
    {
      "cell_type": "code",
      "source": [
        "def dSdt(t,S,k,g,m):\n",
        "  Sx, vx, Sy, vy = S\n",
        "  return  [vx,\n",
        "           -k/m*vx,\n",
        "           vy,\n",
        "          -g-k/m*vy]"
      ],
      "metadata": {
        "id": "GwaoipXh1nVz"
      },
      "execution_count": 2,
      "outputs": []
    },
    {
      "cell_type": "markdown",
      "source": [
        "# Iniciação de valores"
      ],
      "metadata": {
        "id": "3PRl5C3V87ld"
      }
    },
    {
      "cell_type": "code",
      "source": [
        "rho = 1.225  # densidade do ar\n",
        "Cd = 0.2\n",
        "g = 9.80665  # aceleração da gravidade \n",
        "m = 0.430  # massa\n",
        "area = 0.38\n",
        "k = 0.5 * area * rho * Cd\n",
        "V = 20 # velocidade do lançamento(m/s)\n",
        "angulo1 = 45 * (np.pi / 180)  # angulo de lançamento"
      ],
      "metadata": {
        "id": "bJ-MdE_vwsgi"
      },
      "execution_count": 3,
      "outputs": []
    },
    {
      "cell_type": "markdown",
      "source": [
        "# Resolução com scipy"
      ],
      "metadata": {
        "id": "yhyDM5a69JIO"
      }
    },
    {
      "cell_type": "markdown",
      "source": [
        "Vamos utilizar a função **solve_ivp**. Como parÂmetros de entrada, ela receberá a função dSdt que representa nossa equação, o intervalo de integração(t de inicio e t final) e a condição inicial. Nesse caso, temos que a posição inicial é 0 tanto pro x quanto pro y e a velociade inicial sera determinada pela velocidade * vetores de direção para cada coordenada, como visto anteriormente."
      ],
      "metadata": {
        "id": "-KnBeJJo9Nt6"
      }
    },
    {
      "cell_type": "code",
      "source": [
        "def Vx0(angulo):\n",
        "   return V * np.cos(angulo)  # Velocidade inicial em relação a coordenada x\n",
        "def Vy0(angulo):\n",
        "   return V * np.sin(angulo)  # Velocidade inicial em relação a coordenada y\n",
        "solucao1 = solve_ivp(dSdt, [0,10], y0 = [0, Vx0(angulo1), 0, Vy0(angulo1)], t_eval = np.linspace(0,10,1000), args = (k,g,m,), atol=1e-7, rtol=1e-4) \n",
        "solucao2 = solve_ivp(dSdt, [0,10], y0 = [0, Vx0(angulo1), 0, Vy0(angulo1)], t_eval = np.linspace(0,10,1000), args = (0,g,m,), atol=1e-7, rtol=1e-4)"
      ],
      "metadata": {
        "id": "NDwOLg900aQY"
      },
      "execution_count": 4,
      "outputs": []
    },
    {
      "cell_type": "markdown",
      "source": [
        "Plotando os resultados obtidos:"
      ],
      "metadata": {
        "id": "SwnQMLwP-ytr"
      }
    },
    {
      "cell_type": "code",
      "source": [
        "plt.plot(solucao1.y[0], solucao1.y[2], label=r'Com resistência do ar')\n",
        "plt.plot(solucao2.y[0], solucao2.y[2], label=r'Sem resistência do ar')\n",
        "plt.ylim(0,15)\n",
        "plt.xlim(0,50)\n",
        "plt.legend()\n",
        "plt.xlabel('$x$', fontsize=20)\n",
        "plt.ylabel('$y$', fontsize=20)\n",
        "plt.title('Trajetoria da bola de futebol')\n",
        "plt.show()"
      ],
      "metadata": {
        "id": "F4O9dycO6yER",
        "colab": {
          "base_uri": "https://localhost:8080/",
          "height": 304
        },
        "outputId": "26a89753-0da6-4bd6-c75a-24d1fd73a02a"
      },
      "execution_count": 5,
      "outputs": [
        {
          "output_type": "display_data",
          "data": {
            "text/plain": [
              "<Figure size 432x288 with 1 Axes>"
            ],
            "image/png": "[encoded data removed]"
          },
          "metadata": {
            "needs_background": "light"
          }
        }
      ]
    },
    {
      "cell_type": "code",
      "source": [
        "def distancia(angulo, k,g,m, V=1, t=2):\n",
        "  v0x = Vx0(angulo * (np.pi / 180))\n",
        "  v0y = Vy0(angulo * (np.pi / 180))\n",
        "  solucao = solve_ivp(dSdt, [0,10], y0 = [0, v0x, 0, v0y], t_eval = np.linspace(0,10,1000), args = (k,g,m,), atol=1e-7, rtol=1e-4) \n",
        "  sobX = np.where(np.diff(np.sign(solucao.y[2])) < 0)[0][0]\n",
        "  baixoX = sobX + 1\n",
        "  x_loc = (solucao.y[0][sobX] + solucao.y[0][baixoX])/2\n",
        "  return x_loc"
      ],
      "metadata": {
        "id": "_Oo6uSB2-NLZ"
      },
      "execution_count": 6,
      "outputs": []
    },
    {
      "cell_type": "code",
      "source": [
        "print(f'Distância com lançamento à 45 graus:  {distancia(45, k,g,m)}')\n",
        "print(f'Distância com lançamento à 45 graus:  {distancia(45, 0,g,m)}')"
      ],
      "metadata": {
        "colab": {
          "base_uri": "https://localhost:8080/"
        },
        "id": "7QUHqCfjjRee",
        "outputId": "eb1e40f2-effa-42f4-d9ae-682470ff5327"
      },
      "execution_count": 7,
      "outputs": [
        {
          "output_type": "stream",
          "name": "stdout",
          "text": [
            "Distância com lançamento à 45 graus:  33.61236843747396\n",
            "Distância com lançamento à 45 graus:  40.84090217664043\n"
          ]
        }
      ]
    },
    {
      "cell_type": "markdown",
      "source": [
        "# Encontrando o melhor ângulo de lançamento"
      ],
      "metadata": {
        "id": "LeuR3xlK_hsP"
      }
    },
    {
      "cell_type": "code",
      "source": [
        "angulos = np.linspace(30, 80, 1000)\n",
        "xDistancias = np.vectorize(distancia)(angulos, k,g,m)"
      ],
      "metadata": {
        "id": "V-Oj4oqR_v1X"
      },
      "execution_count": 8,
      "outputs": []
    },
    {
      "cell_type": "code",
      "source": [
        "plt.plot(angulos, xDistancias)\n",
        "plt.xlabel('Ângulo de lançamento', fontsize=20)\n",
        "plt.ylabel('Distância maxima')\n",
        "plt.plot(angulos[np.argmax(xDistancias)], xDistancias[np.argmax(xDistancias)], marker = '*', markersize = 20, markeredgecolor=\"red\", label =r'Ponto com distância máxima')\n",
        "plt.axvline(angulos[np.argmax(xDistancias)], ls='--', color='r')\n",
        "plt.title('Distância viajada')\n",
        "plt.show()\n",
        "print(f'Distância máxima de {xDistancias[np.argmax(xDistancias)]} com o ângulo de {angulos[np.argmax(xDistancias)]} graus')"
      ],
      "metadata": {
        "colab": {
          "base_uri": "https://localhost:8080/",
          "height": 324
        },
        "id": "tWt3Ohx2AJAf",
        "outputId": "450810fd-c12e-435d-a1fd-2ef79544aaec"
      },
      "execution_count": 9,
      "outputs": [
        {
          "output_type": "display_data",
          "data": {
            "text/plain": [
              "<Figure size 432x288 with 1 Axes>"
            ],
            "image/png": "[encoded data removed]"
          },
          "metadata": {
            "needs_background": "light"
          }
        },
        {
          "output_type": "stream",
          "name": "stdout",
          "text": [
            "Distância máxima de 33.806481970649486 com o ângulo de 41.711711711711715 graus\n"
          ]
        }
      ]
    },
    {
      "cell_type": "markdown",
      "source": [
        "# Nova seção"
      ],
      "metadata": {
        "id": "pHrisg8zJgy3"
      }
    }
  ]
}